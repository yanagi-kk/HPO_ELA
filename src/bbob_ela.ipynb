{
 "cells": [
  {
   "cell_type": "markdown",
   "metadata": {},
   "source": [
    "# BBOB問題のELA特徴量"
   ]
  },
  {
   "cell_type": "code",
   "execution_count": null,
   "metadata": {},
   "outputs": [],
   "source": [
    "from ioh import get_problem, ProblemClass\n",
    "from pflacco.classical_ela_features import *\n",
    "from pflacco.sampling import create_initial_sample\n",
    "\n",
    "from tqdm.auto import tqdm"
   ]
  },
  {
   "cell_type": "code",
   "execution_count": null,
   "metadata": {},
   "outputs": [],
   "source": [
    "features = []\n",
    "# Get all 24 single-objective noiseless BBOB function in dimension 2 and 3 for the first five instances.\n",
    "for fid in tqdm(range(1,25)):\n",
    "    for dim in [2, 3]:\n",
    "        for iid in range(1, 6):\n",
    "            # Get optimization problem\n",
    "            problem = get_problem(fid, iid, dim, ProblemClass.BBOB)\n",
    "\n",
    "            # Create sample\n",
    "            X = create_initial_sample(dim, lower_bound = -5, upper_bound = 5)\n",
    "            y = X.apply(lambda x: problem(x), axis = 1)\n",
    "\n",
    "            # Calculate ELA features\n",
    "            ela_meta = calculate_ela_meta(X, y)\n",
    "            ela_distr = calculate_ela_distribution(X, y)\n",
    "            ela_level = calculate_ela_level(X, y)\n",
    "            nbc = calculate_nbc(X, y)\n",
    "            disp = calculate_dispersion(X, y)\n",
    "            ic = calculate_information_content(X, y, seed = 100)\n",
    "\n",
    "            # Store results in pandas dataframe\n",
    "            data = pd.DataFrame({**ic, **ela_meta, **ela_distr, **nbc, **disp, **{'fid': fid}, **{'dim': dim}, **{'iid': iid}}, index = [0])\n",
    "            features.append(data)"
   ]
  },
  {
   "cell_type": "code",
   "execution_count": null,
   "metadata": {},
   "outputs": [],
   "source": [
    "features_bbob = pd.concat(features).reset_index(drop = True)\n",
    "features_bbob"
   ]
  }
 ],
 "metadata": {
  "kernelspec": {
   "display_name": ".venv",
   "language": "python",
   "name": "python3"
  },
  "language_info": {
   "name": "python",
   "version": "3.10.0"
  }
 },
 "nbformat": 4,
 "nbformat_minor": 2
}
